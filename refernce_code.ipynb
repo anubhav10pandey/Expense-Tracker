{
  "nbformat": 4,
  "nbformat_minor": 0,
  "metadata": {
    "colab": {
      "provenance": [],
      "authorship_tag": "ABX9TyMu/WqmTPNv3ZbFGVVC+nR5",
      "include_colab_link": true
    },
    "kernelspec": {
      "name": "python3",
      "display_name": "Python 3"
    },
    "language_info": {
      "name": "python"
    }
  },
  "cells": [
    {
      "cell_type": "markdown",
      "metadata": {
        "id": "view-in-github",
        "colab_type": "text"
      },
      "source": [
        "<a href=\"https://colab.research.google.com/github/anubhav10pandey/Expense-Tracker/blob/main/refernce_code.ipynb\" target=\"_parent\"><img src=\"https://colab.research.google.com/assets/colab-badge.svg\" alt=\"Open In Colab\"/></a>"
      ]
    },
    {
      "cell_type": "code",
      "execution_count": null,
      "metadata": {
        "id": "HN9pADHbSDhk"
      },
      "outputs": [],
      "source": [
        "import datetime\n",
        "\n",
        "FILENAME = \"expenses.txt\"\n",
        "\n",
        "def add_expense():\n",
        "    amount = float(input(\"Enter amount spent: \"))\n",
        "    category = input(\"Enter category (e.g., Food, Travel, Shopping): \")\n",
        "    note = input(\"Enter note/description: \")\n",
        "    date = datetime.date.today()\n",
        "\n",
        "    # Save in file (append mode)\n",
        "    with open(FILENAME, \"a\") as file:\n",
        "        file.write(f\"{date},{amount},{category},{note}\\n\")\n",
        "\n",
        "    print(\"✅ Expense added successfully!\")\n",
        "\n",
        "def view_expenses():\n",
        "    try:\n",
        "        with open(FILENAME, \"r\") as file:\n",
        "            lines = file.readlines()\n",
        "\n",
        "            if not lines:\n",
        "                print(\"⚠️ No expenses recorded yet.\")\n",
        "                return\n",
        "\n",
        "            print(\"\\n--- Expense List ---\")\n",
        "            for idx, line in enumerate(lines, 1):\n",
        "                date, amount, category, note = line.strip().split(\",\")\n",
        "                print(f\"{idx}. {date} | ₹{amount} | {category} | {note}\")\n",
        "            print(\"---------------------\")\n",
        "    except FileNotFoundError:\n",
        "        print(\"⚠️ No expenses recorded yet.\")\n",
        "\n",
        "def total_expenses():\n",
        "    total = 0\n",
        "    try:\n",
        "        with open(FILENAME, \"r\") as file:\n",
        "            for line in file:\n",
        "                _, amount, _, _ = line.strip().split(\",\")\n",
        "                total += float(amount)\n",
        "\n",
        "        print(f\"\\n💰 Total Expenses: ₹{total}\")\n",
        "    except FileNotFoundError:\n",
        "        print(\"⚠️ No expenses recorded yet.\")\n",
        "\n",
        "def main():\n",
        "    while True:\n",
        "        print(\"\\n📊 Personal Expense Tracker\")\n",
        "        print(\"1. Add Expense\")\n",
        "        print(\"2. View Expenses\")\n",
        "        print(\"3. Show Total\")\n",
        "        print(\"4. Exit\")\n",
        "\n",
        "        choice = input(\"Enter your choice: \")\n",
        "\n",
        "        if choice == \"1\":\n",
        "            add_expense()\n",
        "        elif choice == \"2\":\n",
        "            view_expenses()\n",
        "        elif choice == \"3\":\n",
        "            total_expenses()\n",
        "        elif choice == \"4\":\n",
        "            print(\"👋 Exiting... Have a great day!\")\n",
        "            break\n",
        "        else:\n",
        "            print(\"⚠️ Invalid choice! Try again.\")\n",
        "\n",
        "if __name__ == \"__main__\":\n",
        "    main()\n"
      ]
    }
  ]
}